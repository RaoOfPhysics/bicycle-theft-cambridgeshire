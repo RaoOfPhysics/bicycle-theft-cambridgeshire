{
 "cells": [
  {
   "cell_type": "markdown",
   "metadata": {},
   "source": [
    "# Data analysis\n",
    "\n",
    "Our objectives are to:\n",
    "    * analyse the data to better understand bike theft hotspots (location, month) and outcomes (suspect charged? no suspect identified?)\n",
    "    * map the bike theft reports on a map!\n",
    "    * colour the entries by outcome"
   ]
  },
  {
   "cell_type": "markdown",
   "metadata": {},
   "source": [
    "## Summary analysis\n",
    "\n",
    "By Naomi\n",
    "\n",
    "### Step 1: import the data\n",
    "\n",
    "Start by importing the local data. Resource used: [Python Crash Course by Eric Matthes](https://ehmatthes.github.io/pcc/)"
   ]
  },
  {
   "cell_type": "code",
   "execution_count": 23,
   "metadata": {},
   "outputs": [
    {
     "name": "stdout",
     "output_type": "stream",
     "text": [
      "['Crime ID', 'Month', 'Longitude', 'Latitude', 'Location', 'Last outcome category']\n",
      "0 Crime ID\n",
      "1 Month\n",
      "2 Longitude\n",
      "3 Latitude\n",
      "4 Location\n",
      "5 Last outcome category\n"
     ]
    }
   ],
   "source": [
    "import csv\n",
    "\n",
    "#Note this method requires the csv to be in same directory as notebook\n",
    "data = 'bikethefts.csv'\n",
    "with open(data) as fname:\n",
    "    reader = csv.reader(fname)\n",
    "    header_row = next(reader)\n",
    "    print(header_row) #This allows us to check the column titles are what we expect\n",
    "    \n",
    "    for index, column_header in enumerate(header_row):\n",
    "        print(index, column_header) #This just prints the headers again but as a list with header number"
   ]
  },
  {
   "cell_type": "markdown",
   "metadata": {},
   "source": [
    "Ideally download the data from github repo. Reference: https://gist.github.com/keum/6590282"
   ]
  },
  {
   "cell_type": "code",
   "execution_count": null,
   "metadata": {},
   "outputs": [],
   "source": [
    "#import csv\n",
    "#import urllib\n",
    "\n",
    "#url = \"https://github.com/open-data-day-cambridge-2018/bicycle-theft-cambridgeshire/blob/master/data/processed/bikethefts.csv\"\n",
    "#webpage = urllib.urlopen(url)\n",
    "#datareader = csv.reader(webpage)\n"
   ]
  },
  {
   "cell_type": "markdown",
   "metadata": {},
   "source": [
    "So we have imported the data as expected.\n",
    "\n",
    "Useful things to analyse at first:\n",
    "* Total number of crime reports (note all in this dataset are bike thefts)\n",
    "* Distribution by month, location, outcome --> individual barplots"
   ]
  },
  {
   "cell_type": "code",
   "execution_count": 24,
   "metadata": {},
   "outputs": [
    {
     "name": "stdout",
     "output_type": "stream",
     "text": [
      "4394\n"
     ]
    }
   ],
   "source": [
    "# Total number of crime reports in 2017 = number of rows. From visual inspection, this is 4,394.\n",
    "with open(data) as fname:\n",
    "    reader = csv.reader(fname)\n",
    "    total = len(list(reader)) - 1 #note to reduce by 1 to remove column header row\n",
    "    print(total)"
   ]
  },
  {
   "cell_type": "markdown",
   "metadata": {},
   "source": [
    "From this, I learnt I needed to have the whole loop of 'with ...:' as I first tried total = len(...) and the program did not understand the file to read.\n",
    "\n",
    "Next, plot some barplots using matplotlib. Reference: https://towardsdatascience.com/5-quick-and-easy-data-visualizations-in-python-with-code-a2284bae952f\n",
    "This will require manipulating the data in the csv, use Pandas: [cheatsheet](https://github.com/pandas-dev/pandas/blob/master/doc/cheatsheet/Pandas_Cheat_Sheet.pdf)"
   ]
  },
  {
   "cell_type": "code",
   "execution_count": 56,
   "metadata": {},
   "outputs": [
    {
     "name": "stdout",
     "output_type": "stream",
     "text": [
      "2017-06    495\n",
      "2017-10    468\n",
      "2017-05    442\n",
      "2017-08    432\n",
      "2017-07    428\n",
      "2017-11    385\n",
      "2017-09    335\n",
      "2017-03    331\n",
      "2017-04    318\n",
      "2017-02    264\n",
      "2017-12    257\n",
      "2017-01    239\n",
      "Name: Month, dtype: int64\n"
     ]
    }
   ],
   "source": [
    "import pandas as pd\n",
    "from pandas import DataFrame\n",
    "\n",
    "df = pd.read_csv('bikethefts.csv')\n",
    "\n",
    "# make a new dataframe with summary stats\n",
    "monthCounts = df.Month.value_counts()\n",
    "monthCounts.to_frame()\n",
    "print(monthCounts)\n",
    "# monthCounts = pd.DataFrame(df.Month.value_counts, columns=['Month','Frequency'])"
   ]
  },
  {
   "cell_type": "markdown",
   "metadata": {},
   "source": [
    "# Everything below is playing around. Ignore!"
   ]
  },
  {
   "cell_type": "raw",
   "metadata": {},
   "source": [
    "import matplotlib.pyplot as plt\n",
    "import pandas as pd\n",
    "from pandas import DataFrame\n",
    "\n",
    "x_data = ['Month']\n",
    "y_data = \n",
    "\n",
    "def barplot(x_data, y_data, error_data, x_label=\"\", y_label=\"\", title=\"\"):\n",
    "    _, ax = plt.subplots()\n",
    "    # Draw bars, position them in the center of the tick mark on the x-axis\n",
    "    ax.bar(x_data, y_data, color = '#539caf', align = 'center')\n",
    "    # Draw error bars to show standard deviation, set ls to 'none'\n",
    "    # to remove line between points\n",
    "    ax.errorbar(x_data, y_data, yerr = error_data, color = '#297083', ls = 'none', lw = 2, capthick = 2)\n",
    "    ax.set_ylabel(y_label)\n",
    "    ax.set_xlabel(x_label)\n",
    "ax.set_title(title)"
   ]
  },
  {
   "cell_type": "raw",
   "metadata": {},
   "source": [
    "import os\n",
    "import urllib\n",
    "import pandas as pd\n",
    "from pandas import DataFrame\n",
    "\n",
    "#df = pd.read_csv('bikethefts.csv', index_col = 'datum')\n",
    "#print(df.head())\n",
    "\n",
    "\n"
   ]
  },
  {
   "cell_type": "raw",
   "metadata": {},
   "source": [
    "import matplotlib.pyplot as plt\n",
    "import numpy as np\n",
    "import pandas as pd\n",
    "from pandas import DataFrame\n",
    "\n",
    "month = pd.data()\n",
    "frequency = \n",
    "\n",
    "def barplot(month, frequency, x_label=\"Month in 2017\", y_label=\"Number of bicycle thefts reported\", title=\"Bicycle thefts in Cambridgeshire in 2017\"):\n",
    "    _, ax = plt.subplots()\n",
    "    # Draw bars, position them in the center of the tick mark on the x-axis\n",
    "    ax.bar(x_data, y_data, color = '#539caf', align = 'center')\n",
    "    # Draw error bars to show standard deviation, set ls to 'none'\n",
    "    # to remove line between points\n",
    "    ax.errorbar(x_data, y_data, yerr = error_data, color = '#297083', ls = 'none', lw = 2, capthick = 2)\n",
    "    ax.set_ylabel(y_label)\n",
    "    ax.set_xlabel(x_label)\n",
    "ax.set_title(title)"
   ]
  },
  {
   "cell_type": "raw",
   "metadata": {},
   "source": [
    "# Get months from file\n",
    "with open(data) as f:\n",
    "    reader = csv.reader(f)\n",
    "    \n",
    "    months = []\n",
    "    for row in reader:\n",
    "        "
   ]
  },
  {
   "cell_type": "raw",
   "metadata": {},
   "source": [
    "#load the plotting library from matplotlib\n",
    "import matplotlib.pyplot as plt"
   ]
  },
  {
   "cell_type": "markdown",
   "metadata": {},
   "source": [
    "## Mapping the data\n",
    "\n",
    "By Rachel and Yo"
   ]
  }
 ],
 "metadata": {
  "kernelspec": {
   "display_name": "Python 3",
   "language": "python",
   "name": "python3"
  },
  "language_info": {
   "codemirror_mode": {
    "name": "ipython",
    "version": 3
   },
   "file_extension": ".py",
   "mimetype": "text/x-python",
   "name": "python",
   "nbconvert_exporter": "python",
   "pygments_lexer": "ipython3",
   "version": "3.6.4"
  }
 },
 "nbformat": 4,
 "nbformat_minor": 2
}
